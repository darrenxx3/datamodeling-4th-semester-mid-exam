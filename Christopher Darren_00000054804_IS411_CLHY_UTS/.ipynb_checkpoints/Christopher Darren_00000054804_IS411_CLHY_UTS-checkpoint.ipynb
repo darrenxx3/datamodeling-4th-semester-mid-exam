{
 "cells": [
  {
   "cell_type": "markdown",
   "id": "c45f08b6",
   "metadata": {},
   "source": [
    "### Importing data"
   ]
  },
  {
   "cell_type": "code",
   "execution_count": 146,
   "id": "cf729908",
   "metadata": {},
   "outputs": [],
   "source": [
    "import pandas as pd\n",
    "import numpy as np"
   ]
  },
  {
   "cell_type": "code",
   "execution_count": 147,
   "id": "e84f4560",
   "metadata": {},
   "outputs": [
    {
     "data": {
      "text/html": [
       "<div>\n",
       "<style scoped>\n",
       "    .dataframe tbody tr th:only-of-type {\n",
       "        vertical-align: middle;\n",
       "    }\n",
       "\n",
       "    .dataframe tbody tr th {\n",
       "        vertical-align: top;\n",
       "    }\n",
       "\n",
       "    .dataframe thead th {\n",
       "        text-align: right;\n",
       "    }\n",
       "</style>\n",
       "<table border=\"1\" class=\"dataframe\">\n",
       "  <thead>\n",
       "    <tr style=\"text-align: right;\">\n",
       "      <th></th>\n",
       "      <th>gender</th>\n",
       "      <th>race</th>\n",
       "      <th>parental level of education</th>\n",
       "      <th>lunch</th>\n",
       "      <th>test preparation course</th>\n",
       "      <th>math score</th>\n",
       "      <th>reading score</th>\n",
       "      <th>writing score</th>\n",
       "      <th>total_score</th>\n",
       "      <th>result</th>\n",
       "    </tr>\n",
       "  </thead>\n",
       "  <tbody>\n",
       "    <tr>\n",
       "      <th>0</th>\n",
       "      <td>female</td>\n",
       "      <td>group B</td>\n",
       "      <td>bachelor's degree</td>\n",
       "      <td>standard</td>\n",
       "      <td>none</td>\n",
       "      <td>72</td>\n",
       "      <td>72</td>\n",
       "      <td>74</td>\n",
       "      <td>72.67</td>\n",
       "      <td>PASS</td>\n",
       "    </tr>\n",
       "    <tr>\n",
       "      <th>1</th>\n",
       "      <td>female</td>\n",
       "      <td>group C</td>\n",
       "      <td>some college</td>\n",
       "      <td>standard</td>\n",
       "      <td>completed</td>\n",
       "      <td>69</td>\n",
       "      <td>90</td>\n",
       "      <td>88</td>\n",
       "      <td>82.33</td>\n",
       "      <td>PASS</td>\n",
       "    </tr>\n",
       "    <tr>\n",
       "      <th>2</th>\n",
       "      <td>female</td>\n",
       "      <td>group B</td>\n",
       "      <td>master's degree</td>\n",
       "      <td>standard</td>\n",
       "      <td>none</td>\n",
       "      <td>90</td>\n",
       "      <td>95</td>\n",
       "      <td>93</td>\n",
       "      <td>92.67</td>\n",
       "      <td>PASS</td>\n",
       "    </tr>\n",
       "    <tr>\n",
       "      <th>3</th>\n",
       "      <td>male</td>\n",
       "      <td>group A</td>\n",
       "      <td>associate's degree</td>\n",
       "      <td>free/reduced</td>\n",
       "      <td>none</td>\n",
       "      <td>47</td>\n",
       "      <td>57</td>\n",
       "      <td>44</td>\n",
       "      <td>49.33</td>\n",
       "      <td>FAIL</td>\n",
       "    </tr>\n",
       "    <tr>\n",
       "      <th>4</th>\n",
       "      <td>male</td>\n",
       "      <td>group C</td>\n",
       "      <td>some college</td>\n",
       "      <td>standard</td>\n",
       "      <td>none</td>\n",
       "      <td>76</td>\n",
       "      <td>78</td>\n",
       "      <td>75</td>\n",
       "      <td>76.33</td>\n",
       "      <td>PASS</td>\n",
       "    </tr>\n",
       "  </tbody>\n",
       "</table>\n",
       "</div>"
      ],
      "text/plain": [
       "   gender     race parental level of education         lunch  \\\n",
       "0  female  group B           bachelor's degree      standard   \n",
       "1  female  group C                some college      standard   \n",
       "2  female  group B             master's degree      standard   \n",
       "3    male  group A          associate's degree  free/reduced   \n",
       "4    male  group C                some college      standard   \n",
       "\n",
       "  test preparation course  math score  reading score  writing score  \\\n",
       "0                    none          72             72             74   \n",
       "1               completed          69             90             88   \n",
       "2                    none          90             95             93   \n",
       "3                    none          47             57             44   \n",
       "4                    none          76             78             75   \n",
       "\n",
       "   total_score result  \n",
       "0        72.67   PASS  \n",
       "1        82.33   PASS  \n",
       "2        92.67   PASS  \n",
       "3        49.33   FAIL  \n",
       "4        76.33   PASS  "
      ]
     },
     "execution_count": 147,
     "metadata": {},
     "output_type": "execute_result"
    }
   ],
   "source": [
    "nilai = pd.read_csv(r\"D:\\SEMESTER 4\\UTS\\datmodelling\\onsite-DataModeling_nilaiSiswa_UTS.csv\", delimiter=',')\n",
    "nilai.head(5)"
   ]
  },
  {
   "cell_type": "code",
   "execution_count": 148,
   "id": "1c35af31",
   "metadata": {},
   "outputs": [
    {
     "data": {
      "text/html": [
       "<div>\n",
       "<style scoped>\n",
       "    .dataframe tbody tr th:only-of-type {\n",
       "        vertical-align: middle;\n",
       "    }\n",
       "\n",
       "    .dataframe tbody tr th {\n",
       "        vertical-align: top;\n",
       "    }\n",
       "\n",
       "    .dataframe thead th {\n",
       "        text-align: right;\n",
       "    }\n",
       "</style>\n",
       "<table border=\"1\" class=\"dataframe\">\n",
       "  <thead>\n",
       "    <tr style=\"text-align: right;\">\n",
       "      <th></th>\n",
       "      <th>gender</th>\n",
       "      <th>race</th>\n",
       "      <th>parental level of education</th>\n",
       "      <th>lunch</th>\n",
       "      <th>test preparation course</th>\n",
       "      <th>math score</th>\n",
       "      <th>reading score</th>\n",
       "      <th>writing score</th>\n",
       "      <th>total_score</th>\n",
       "      <th>result</th>\n",
       "    </tr>\n",
       "  </thead>\n",
       "  <tbody>\n",
       "    <tr>\n",
       "      <th>998</th>\n",
       "      <td>female</td>\n",
       "      <td>group D</td>\n",
       "      <td>some college</td>\n",
       "      <td>standard</td>\n",
       "      <td>completed</td>\n",
       "      <td>68</td>\n",
       "      <td>78</td>\n",
       "      <td>77</td>\n",
       "      <td>74.33</td>\n",
       "      <td>NaN</td>\n",
       "    </tr>\n",
       "    <tr>\n",
       "      <th>999</th>\n",
       "      <td>female</td>\n",
       "      <td>group D</td>\n",
       "      <td>some college</td>\n",
       "      <td>free/reduced</td>\n",
       "      <td>none</td>\n",
       "      <td>77</td>\n",
       "      <td>86</td>\n",
       "      <td>86</td>\n",
       "      <td>83.00</td>\n",
       "      <td>PASS</td>\n",
       "    </tr>\n",
       "  </tbody>\n",
       "</table>\n",
       "</div>"
      ],
      "text/plain": [
       "     gender     race parental level of education         lunch  \\\n",
       "998  female  group D                some college      standard   \n",
       "999  female  group D                some college  free/reduced   \n",
       "\n",
       "    test preparation course  math score  reading score  writing score  \\\n",
       "998               completed          68             78             77   \n",
       "999                    none          77             86             86   \n",
       "\n",
       "     total_score result  \n",
       "998        74.33    NaN  \n",
       "999        83.00   PASS  "
      ]
     },
     "execution_count": 148,
     "metadata": {},
     "output_type": "execute_result"
    }
   ],
   "source": [
    "nilai.tail(2)"
   ]
  },
  {
   "cell_type": "code",
   "execution_count": 149,
   "id": "942a29c5",
   "metadata": {},
   "outputs": [
    {
     "name": "stdout",
     "output_type": "stream",
     "text": [
      "<class 'pandas.core.frame.DataFrame'>\n",
      "RangeIndex: 1000 entries, 0 to 999\n",
      "Data columns (total 10 columns):\n",
      " #   Column                       Non-Null Count  Dtype  \n",
      "---  ------                       --------------  -----  \n",
      " 0   gender                       1000 non-null   object \n",
      " 1   race                         1000 non-null   object \n",
      " 2   parental level of education  1000 non-null   object \n",
      " 3   lunch                        1000 non-null   object \n",
      " 4   test preparation course      1000 non-null   object \n",
      " 5   math score                   1000 non-null   int64  \n",
      " 6   reading score                1000 non-null   int64  \n",
      " 7   writing score                1000 non-null   int64  \n",
      " 8   total_score                  1000 non-null   float64\n",
      " 9   result                       939 non-null    object \n",
      "dtypes: float64(1), int64(3), object(6)\n",
      "memory usage: 78.2+ KB\n"
     ]
    },
    {
     "data": {
      "text/plain": [
       "(1000, 10)"
      ]
     },
     "execution_count": 149,
     "metadata": {},
     "output_type": "execute_result"
    }
   ],
   "source": [
    "nilai.info()\n",
    "nilai.shape"
   ]
  },
  {
   "cell_type": "code",
   "execution_count": 150,
   "id": "a433f64d",
   "metadata": {},
   "outputs": [
    {
     "data": {
      "text/html": [
       "<div>\n",
       "<style scoped>\n",
       "    .dataframe tbody tr th:only-of-type {\n",
       "        vertical-align: middle;\n",
       "    }\n",
       "\n",
       "    .dataframe tbody tr th {\n",
       "        vertical-align: top;\n",
       "    }\n",
       "\n",
       "    .dataframe thead th {\n",
       "        text-align: right;\n",
       "    }\n",
       "</style>\n",
       "<table border=\"1\" class=\"dataframe\">\n",
       "  <thead>\n",
       "    <tr style=\"text-align: right;\">\n",
       "      <th></th>\n",
       "      <th>math score</th>\n",
       "      <th>reading score</th>\n",
       "      <th>writing score</th>\n",
       "      <th>total_score</th>\n",
       "    </tr>\n",
       "  </thead>\n",
       "  <tbody>\n",
       "    <tr>\n",
       "      <th>count</th>\n",
       "      <td>1000.00000</td>\n",
       "      <td>1000.000000</td>\n",
       "      <td>1000.000000</td>\n",
       "      <td>1000.000000</td>\n",
       "    </tr>\n",
       "    <tr>\n",
       "      <th>mean</th>\n",
       "      <td>66.08900</td>\n",
       "      <td>69.169000</td>\n",
       "      <td>68.054000</td>\n",
       "      <td>67.770580</td>\n",
       "    </tr>\n",
       "    <tr>\n",
       "      <th>std</th>\n",
       "      <td>15.16308</td>\n",
       "      <td>14.600192</td>\n",
       "      <td>15.195657</td>\n",
       "      <td>14.257311</td>\n",
       "    </tr>\n",
       "    <tr>\n",
       "      <th>min</th>\n",
       "      <td>0.00000</td>\n",
       "      <td>17.000000</td>\n",
       "      <td>10.000000</td>\n",
       "      <td>9.000000</td>\n",
       "    </tr>\n",
       "    <tr>\n",
       "      <th>25%</th>\n",
       "      <td>57.00000</td>\n",
       "      <td>59.000000</td>\n",
       "      <td>57.750000</td>\n",
       "      <td>58.330000</td>\n",
       "    </tr>\n",
       "    <tr>\n",
       "      <th>50%</th>\n",
       "      <td>66.00000</td>\n",
       "      <td>70.000000</td>\n",
       "      <td>69.000000</td>\n",
       "      <td>68.330000</td>\n",
       "    </tr>\n",
       "    <tr>\n",
       "      <th>75%</th>\n",
       "      <td>77.00000</td>\n",
       "      <td>79.000000</td>\n",
       "      <td>79.000000</td>\n",
       "      <td>77.670000</td>\n",
       "    </tr>\n",
       "    <tr>\n",
       "      <th>max</th>\n",
       "      <td>100.00000</td>\n",
       "      <td>100.000000</td>\n",
       "      <td>100.000000</td>\n",
       "      <td>100.000000</td>\n",
       "    </tr>\n",
       "  </tbody>\n",
       "</table>\n",
       "</div>"
      ],
      "text/plain": [
       "       math score  reading score  writing score  total_score\n",
       "count  1000.00000    1000.000000    1000.000000  1000.000000\n",
       "mean     66.08900      69.169000      68.054000    67.770580\n",
       "std      15.16308      14.600192      15.195657    14.257311\n",
       "min       0.00000      17.000000      10.000000     9.000000\n",
       "25%      57.00000      59.000000      57.750000    58.330000\n",
       "50%      66.00000      70.000000      69.000000    68.330000\n",
       "75%      77.00000      79.000000      79.000000    77.670000\n",
       "max     100.00000     100.000000     100.000000   100.000000"
      ]
     },
     "execution_count": 150,
     "metadata": {},
     "output_type": "execute_result"
    }
   ],
   "source": [
    "nilai.describe()"
   ]
  },
  {
   "cell_type": "markdown",
   "id": "e3ef4a59",
   "metadata": {},
   "source": [
    "### Question 1(fill the missing values)"
   ]
  },
  {
   "cell_type": "code",
   "execution_count": 151,
   "id": "b175e8fe",
   "metadata": {},
   "outputs": [
    {
     "name": "stdout",
     "output_type": "stream",
     "text": [
      "gender                          0\n",
      "race                            0\n",
      "parental level of education     0\n",
      "lunch                           0\n",
      "test preparation course         0\n",
      "math score                      0\n",
      "reading score                   0\n",
      "writing score                   0\n",
      "total_score                     0\n",
      "result                         61\n",
      "dtype: int64\n"
     ]
    }
   ],
   "source": [
    "#menampilkan informasi untuk mengetahui kolum/atribut data yang memiliki data null (empty) dalam barisnya\n",
    "print(nilai.isnull().sum())"
   ]
  },
  {
   "cell_type": "code",
   "execution_count": 152,
   "id": "3e1039fd",
   "metadata": {},
   "outputs": [
    {
     "data": {
      "text/html": [
       "<div>\n",
       "<style scoped>\n",
       "    .dataframe tbody tr th:only-of-type {\n",
       "        vertical-align: middle;\n",
       "    }\n",
       "\n",
       "    .dataframe tbody tr th {\n",
       "        vertical-align: top;\n",
       "    }\n",
       "\n",
       "    .dataframe thead th {\n",
       "        text-align: right;\n",
       "    }\n",
       "</style>\n",
       "<table border=\"1\" class=\"dataframe\">\n",
       "  <thead>\n",
       "    <tr style=\"text-align: right;\">\n",
       "      <th></th>\n",
       "      <th>gender</th>\n",
       "      <th>race</th>\n",
       "      <th>parental level of education</th>\n",
       "      <th>lunch</th>\n",
       "      <th>test preparation course</th>\n",
       "      <th>math score</th>\n",
       "      <th>reading score</th>\n",
       "      <th>writing score</th>\n",
       "      <th>total_score</th>\n",
       "      <th>result</th>\n",
       "    </tr>\n",
       "  </thead>\n",
       "  <tbody>\n",
       "    <tr>\n",
       "      <th>0</th>\n",
       "      <td>female</td>\n",
       "      <td>group B</td>\n",
       "      <td>bachelor's degree</td>\n",
       "      <td>standard</td>\n",
       "      <td>none</td>\n",
       "      <td>72</td>\n",
       "      <td>72</td>\n",
       "      <td>74</td>\n",
       "      <td>72.67</td>\n",
       "      <td>PASS</td>\n",
       "    </tr>\n",
       "    <tr>\n",
       "      <th>1</th>\n",
       "      <td>female</td>\n",
       "      <td>group C</td>\n",
       "      <td>some college</td>\n",
       "      <td>standard</td>\n",
       "      <td>completed</td>\n",
       "      <td>69</td>\n",
       "      <td>90</td>\n",
       "      <td>88</td>\n",
       "      <td>82.33</td>\n",
       "      <td>PASS</td>\n",
       "    </tr>\n",
       "    <tr>\n",
       "      <th>2</th>\n",
       "      <td>female</td>\n",
       "      <td>group B</td>\n",
       "      <td>master's degree</td>\n",
       "      <td>standard</td>\n",
       "      <td>none</td>\n",
       "      <td>90</td>\n",
       "      <td>95</td>\n",
       "      <td>93</td>\n",
       "      <td>92.67</td>\n",
       "      <td>PASS</td>\n",
       "    </tr>\n",
       "    <tr>\n",
       "      <th>3</th>\n",
       "      <td>male</td>\n",
       "      <td>group A</td>\n",
       "      <td>associate's degree</td>\n",
       "      <td>free/reduced</td>\n",
       "      <td>none</td>\n",
       "      <td>47</td>\n",
       "      <td>57</td>\n",
       "      <td>44</td>\n",
       "      <td>49.33</td>\n",
       "      <td>FAIL</td>\n",
       "    </tr>\n",
       "    <tr>\n",
       "      <th>4</th>\n",
       "      <td>male</td>\n",
       "      <td>group C</td>\n",
       "      <td>some college</td>\n",
       "      <td>standard</td>\n",
       "      <td>none</td>\n",
       "      <td>76</td>\n",
       "      <td>78</td>\n",
       "      <td>75</td>\n",
       "      <td>76.33</td>\n",
       "      <td>PASS</td>\n",
       "    </tr>\n",
       "    <tr>\n",
       "      <th>5</th>\n",
       "      <td>female</td>\n",
       "      <td>group B</td>\n",
       "      <td>associate's degree</td>\n",
       "      <td>standard</td>\n",
       "      <td>none</td>\n",
       "      <td>71</td>\n",
       "      <td>83</td>\n",
       "      <td>78</td>\n",
       "      <td>77.33</td>\n",
       "      <td>PASS</td>\n",
       "    </tr>\n",
       "    <tr>\n",
       "      <th>6</th>\n",
       "      <td>female</td>\n",
       "      <td>group B</td>\n",
       "      <td>some college</td>\n",
       "      <td>standard</td>\n",
       "      <td>completed</td>\n",
       "      <td>88</td>\n",
       "      <td>95</td>\n",
       "      <td>92</td>\n",
       "      <td>91.67</td>\n",
       "      <td>PASS</td>\n",
       "    </tr>\n",
       "    <tr>\n",
       "      <th>7</th>\n",
       "      <td>male</td>\n",
       "      <td>group B</td>\n",
       "      <td>some college</td>\n",
       "      <td>free/reduced</td>\n",
       "      <td>none</td>\n",
       "      <td>40</td>\n",
       "      <td>43</td>\n",
       "      <td>39</td>\n",
       "      <td>40.67</td>\n",
       "      <td>FAIL</td>\n",
       "    </tr>\n",
       "    <tr>\n",
       "      <th>8</th>\n",
       "      <td>male</td>\n",
       "      <td>group D</td>\n",
       "      <td>high school</td>\n",
       "      <td>free/reduced</td>\n",
       "      <td>completed</td>\n",
       "      <td>64</td>\n",
       "      <td>64</td>\n",
       "      <td>67</td>\n",
       "      <td>65.00</td>\n",
       "      <td>PASS</td>\n",
       "    </tr>\n",
       "    <tr>\n",
       "      <th>9</th>\n",
       "      <td>female</td>\n",
       "      <td>group B</td>\n",
       "      <td>high school</td>\n",
       "      <td>free/reduced</td>\n",
       "      <td>none</td>\n",
       "      <td>38</td>\n",
       "      <td>60</td>\n",
       "      <td>50</td>\n",
       "      <td>49.33</td>\n",
       "      <td>FAIL</td>\n",
       "    </tr>\n",
       "    <tr>\n",
       "      <th>10</th>\n",
       "      <td>male</td>\n",
       "      <td>group C</td>\n",
       "      <td>associate's degree</td>\n",
       "      <td>standard</td>\n",
       "      <td>none</td>\n",
       "      <td>58</td>\n",
       "      <td>54</td>\n",
       "      <td>52</td>\n",
       "      <td>54.67</td>\n",
       "      <td>FAIL</td>\n",
       "    </tr>\n",
       "    <tr>\n",
       "      <th>11</th>\n",
       "      <td>male</td>\n",
       "      <td>group D</td>\n",
       "      <td>associate's degree</td>\n",
       "      <td>standard</td>\n",
       "      <td>none</td>\n",
       "      <td>40</td>\n",
       "      <td>52</td>\n",
       "      <td>43</td>\n",
       "      <td>45.00</td>\n",
       "      <td>FAIL</td>\n",
       "    </tr>\n",
       "    <tr>\n",
       "      <th>12</th>\n",
       "      <td>female</td>\n",
       "      <td>group B</td>\n",
       "      <td>high school</td>\n",
       "      <td>standard</td>\n",
       "      <td>none</td>\n",
       "      <td>65</td>\n",
       "      <td>81</td>\n",
       "      <td>73</td>\n",
       "      <td>73.00</td>\n",
       "      <td>PASS</td>\n",
       "    </tr>\n",
       "    <tr>\n",
       "      <th>13</th>\n",
       "      <td>male</td>\n",
       "      <td>group A</td>\n",
       "      <td>some college</td>\n",
       "      <td>standard</td>\n",
       "      <td>completed</td>\n",
       "      <td>78</td>\n",
       "      <td>72</td>\n",
       "      <td>70</td>\n",
       "      <td>73.33</td>\n",
       "      <td>PASS</td>\n",
       "    </tr>\n",
       "    <tr>\n",
       "      <th>14</th>\n",
       "      <td>female</td>\n",
       "      <td>group A</td>\n",
       "      <td>master's degree</td>\n",
       "      <td>standard</td>\n",
       "      <td>none</td>\n",
       "      <td>50</td>\n",
       "      <td>53</td>\n",
       "      <td>58</td>\n",
       "      <td>53.67</td>\n",
       "      <td>FAIL</td>\n",
       "    </tr>\n",
       "    <tr>\n",
       "      <th>15</th>\n",
       "      <td>female</td>\n",
       "      <td>group C</td>\n",
       "      <td>some high school</td>\n",
       "      <td>standard</td>\n",
       "      <td>none</td>\n",
       "      <td>69</td>\n",
       "      <td>75</td>\n",
       "      <td>78</td>\n",
       "      <td>74.00</td>\n",
       "      <td>PASS</td>\n",
       "    </tr>\n",
       "    <tr>\n",
       "      <th>16</th>\n",
       "      <td>male</td>\n",
       "      <td>group C</td>\n",
       "      <td>high school</td>\n",
       "      <td>standard</td>\n",
       "      <td>none</td>\n",
       "      <td>88</td>\n",
       "      <td>89</td>\n",
       "      <td>86</td>\n",
       "      <td>87.67</td>\n",
       "      <td>PASS</td>\n",
       "    </tr>\n",
       "    <tr>\n",
       "      <th>17</th>\n",
       "      <td>female</td>\n",
       "      <td>group B</td>\n",
       "      <td>some high school</td>\n",
       "      <td>free/reduced</td>\n",
       "      <td>none</td>\n",
       "      <td>18</td>\n",
       "      <td>32</td>\n",
       "      <td>28</td>\n",
       "      <td>26.00</td>\n",
       "      <td>FAIL</td>\n",
       "    </tr>\n",
       "    <tr>\n",
       "      <th>18</th>\n",
       "      <td>male</td>\n",
       "      <td>group C</td>\n",
       "      <td>master's degree</td>\n",
       "      <td>free/reduced</td>\n",
       "      <td>completed</td>\n",
       "      <td>46</td>\n",
       "      <td>42</td>\n",
       "      <td>46</td>\n",
       "      <td>44.67</td>\n",
       "      <td>FAIL</td>\n",
       "    </tr>\n",
       "    <tr>\n",
       "      <th>19</th>\n",
       "      <td>female</td>\n",
       "      <td>group C</td>\n",
       "      <td>associate's degree</td>\n",
       "      <td>free/reduced</td>\n",
       "      <td>none</td>\n",
       "      <td>54</td>\n",
       "      <td>58</td>\n",
       "      <td>61</td>\n",
       "      <td>57.67</td>\n",
       "      <td>FAIL</td>\n",
       "    </tr>\n",
       "  </tbody>\n",
       "</table>\n",
       "</div>"
      ],
      "text/plain": [
       "    gender     race parental level of education         lunch  \\\n",
       "0   female  group B           bachelor's degree      standard   \n",
       "1   female  group C                some college      standard   \n",
       "2   female  group B             master's degree      standard   \n",
       "3     male  group A          associate's degree  free/reduced   \n",
       "4     male  group C                some college      standard   \n",
       "5   female  group B          associate's degree      standard   \n",
       "6   female  group B                some college      standard   \n",
       "7     male  group B                some college  free/reduced   \n",
       "8     male  group D                 high school  free/reduced   \n",
       "9   female  group B                 high school  free/reduced   \n",
       "10    male  group C          associate's degree      standard   \n",
       "11    male  group D          associate's degree      standard   \n",
       "12  female  group B                 high school      standard   \n",
       "13    male  group A                some college      standard   \n",
       "14  female  group A             master's degree      standard   \n",
       "15  female  group C            some high school      standard   \n",
       "16    male  group C                 high school      standard   \n",
       "17  female  group B            some high school  free/reduced   \n",
       "18    male  group C             master's degree  free/reduced   \n",
       "19  female  group C          associate's degree  free/reduced   \n",
       "\n",
       "   test preparation course  math score  reading score  writing score  \\\n",
       "0                     none          72             72             74   \n",
       "1                completed          69             90             88   \n",
       "2                     none          90             95             93   \n",
       "3                     none          47             57             44   \n",
       "4                     none          76             78             75   \n",
       "5                     none          71             83             78   \n",
       "6                completed          88             95             92   \n",
       "7                     none          40             43             39   \n",
       "8                completed          64             64             67   \n",
       "9                     none          38             60             50   \n",
       "10                    none          58             54             52   \n",
       "11                    none          40             52             43   \n",
       "12                    none          65             81             73   \n",
       "13               completed          78             72             70   \n",
       "14                    none          50             53             58   \n",
       "15                    none          69             75             78   \n",
       "16                    none          88             89             86   \n",
       "17                    none          18             32             28   \n",
       "18               completed          46             42             46   \n",
       "19                    none          54             58             61   \n",
       "\n",
       "    total_score result  \n",
       "0         72.67   PASS  \n",
       "1         82.33   PASS  \n",
       "2         92.67   PASS  \n",
       "3         49.33   FAIL  \n",
       "4         76.33   PASS  \n",
       "5         77.33   PASS  \n",
       "6         91.67   PASS  \n",
       "7         40.67   FAIL  \n",
       "8         65.00   PASS  \n",
       "9         49.33   FAIL  \n",
       "10        54.67   FAIL  \n",
       "11        45.00   FAIL  \n",
       "12        73.00   PASS  \n",
       "13        73.33   PASS  \n",
       "14        53.67   FAIL  \n",
       "15        74.00   PASS  \n",
       "16        87.67   PASS  \n",
       "17        26.00   FAIL  \n",
       "18        44.67   FAIL  \n",
       "19        57.67   FAIL  "
      ]
     },
     "execution_count": 152,
     "metadata": {},
     "output_type": "execute_result"
    }
   ],
   "source": [
    "#menggunakan condition dan apply untuk mengisi nilai PASS dan FAil yang masih NaN\n",
    "\n",
    "nilai['result'] = nilai.apply(lambda row: 'PASS' if row['total_score'] > 60 else 'FAIL' if row['total_score'] is not None else None, axis=1)\n",
    "nilai.head(20)"
   ]
  },
  {
   "cell_type": "code",
   "execution_count": 153,
   "id": "42c8213a",
   "metadata": {},
   "outputs": [
    {
     "name": "stdout",
     "output_type": "stream",
     "text": [
      "<class 'pandas.core.frame.DataFrame'>\n",
      "RangeIndex: 1000 entries, 0 to 999\n",
      "Data columns (total 10 columns):\n",
      " #   Column                       Non-Null Count  Dtype  \n",
      "---  ------                       --------------  -----  \n",
      " 0   gender                       1000 non-null   object \n",
      " 1   race                         1000 non-null   object \n",
      " 2   parental level of education  1000 non-null   object \n",
      " 3   lunch                        1000 non-null   object \n",
      " 4   test preparation course      1000 non-null   object \n",
      " 5   math score                   1000 non-null   int64  \n",
      " 6   reading score                1000 non-null   int64  \n",
      " 7   writing score                1000 non-null   int64  \n",
      " 8   total_score                  1000 non-null   float64\n",
      " 9   result                       1000 non-null   object \n",
      "dtypes: float64(1), int64(3), object(6)\n",
      "memory usage: 78.2+ KB\n"
     ]
    }
   ],
   "source": [
    "#checking whether is it already fill or not\n",
    "nilai.info()"
   ]
  },
  {
   "cell_type": "markdown",
   "id": "44c55d6d",
   "metadata": {},
   "source": [
    "### Question 2\n",
    "#### find the average of each score of each course, then display the highest and lowest mean of total_score(using groupby)"
   ]
  },
  {
   "cell_type": "code",
   "execution_count": 154,
   "id": "e50fcd7f",
   "metadata": {},
   "outputs": [
    {
     "name": "stdout",
     "output_type": "stream",
     "text": [
      "test preparation course\n",
      "completed    72.669469\n",
      "none         65.038801\n",
      "Name: total_score, dtype: float64\n"
     ]
    }
   ],
   "source": [
    "# melihat average score dari setiap mata pelajaran\n",
    "\n",
    "averagescorecourse = nilai.groupby('test preparation course')['total_score'].mean()\n",
    "print(averagescorecourse)"
   ]
  },
  {
   "cell_type": "markdown",
   "id": "e175f1ed",
   "metadata": {},
   "source": [
    "#### bisa dilihat bahwa  total_score untuk completed dan none 72.6694 sekian dan none 65.038801"
   ]
  },
  {
   "cell_type": "code",
   "execution_count": 155,
   "id": "a31200b2",
   "metadata": {},
   "outputs": [
    {
     "name": "stdout",
     "output_type": "stream",
     "text": [
      "nilai terendah untuk averagenya adalah:  65.038801\n",
      "nilai tertinggi untuk averagenya adalah:  72.669469\n"
     ]
    }
   ],
   "source": [
    "# tampilkan nilai paling tinggi dan paling rendah mean dari total_score!!!\n",
    "\n",
    "tertinggi = averagescorecourse.max()\n",
    "terendah = averagescorecourse.min()\n",
    "\n",
    "print(f'nilai terendah untuk averagenya adalah:  {terendah:2f}')\n",
    "print(f'nilai tertinggi untuk averagenya adalah:  {tertinggi:2f}')"
   ]
  },
  {
   "cell_type": "markdown",
   "id": "c4e59d8f",
   "metadata": {},
   "source": [
    "### Question 3"
   ]
  },
  {
   "cell_type": "markdown",
   "id": "5ca31895",
   "metadata": {},
   "source": [
    "#### a.use the same dataset that has no missing values"
   ]
  },
  {
   "cell_type": "code",
   "execution_count": 156,
   "id": "bcd0a4ca",
   "metadata": {},
   "outputs": [
    {
     "name": "stdout",
     "output_type": "stream",
     "text": [
      "<class 'pandas.core.frame.DataFrame'>\n",
      "RangeIndex: 1000 entries, 0 to 999\n",
      "Data columns (total 10 columns):\n",
      " #   Column                       Non-Null Count  Dtype  \n",
      "---  ------                       --------------  -----  \n",
      " 0   gender                       1000 non-null   object \n",
      " 1   race                         1000 non-null   object \n",
      " 2   parental level of education  1000 non-null   object \n",
      " 3   lunch                        1000 non-null   object \n",
      " 4   test preparation course      1000 non-null   object \n",
      " 5   math score                   1000 non-null   int64  \n",
      " 6   reading score                1000 non-null   int64  \n",
      " 7   writing score                1000 non-null   int64  \n",
      " 8   total_score                  1000 non-null   float64\n",
      " 9   result                       1000 non-null   object \n",
      "dtypes: float64(1), int64(3), object(6)\n",
      "memory usage: 78.2+ KB\n"
     ]
    }
   ],
   "source": [
    "samedata = nilai.copy()\n",
    "samedata.info()"
   ]
  },
  {
   "cell_type": "code",
   "execution_count": 157,
   "id": "99e3d37f",
   "metadata": {},
   "outputs": [],
   "source": [
    "#encoding\n",
    "\n",
    "def encode_data(feature_name):\n",
    "    mapping_dict = {}\n",
    "    \n",
    "    unique_values = list(samedata[feature_name].unique())\n",
    "    \n",
    "    \n",
    "    for idx in range(len(unique_values)):\n",
    "        \n",
    "        mapping_dict[unique_values[idx]] = idx\n",
    "        \n",
    "    return mapping_dict\n",
    "\n",
    "\n",
    "samedata['gender'].replace({'male':0,'female': 1}, inplace = True)\n",
    "\n",
    "samedata['race'].replace({'group A':0,'group B': 1, 'group C':2, 'group D':3, 'group E':4}, inplace = True)\n",
    "\n",
    "samedata['parental level of education'].replace(encode_data('parental level of education'), inplace = True)\n",
    "\n",
    "samedata['lunch'].replace(encode_data('lunch'), inplace = True)\n",
    "\n",
    "samedata['test preparation course'].replace(encode_data('test preparation course'), inplace = True)\n",
    "\n",
    "samedata['result'].replace({'FAIL':0,'PASS': 1}, inplace = True)"
   ]
  },
  {
   "cell_type": "code",
   "execution_count": 158,
   "id": "3b4909d3",
   "metadata": {},
   "outputs": [
    {
     "name": "stdout",
     "output_type": "stream",
     "text": [
      "<class 'pandas.core.frame.DataFrame'>\n",
      "RangeIndex: 1000 entries, 0 to 999\n",
      "Data columns (total 10 columns):\n",
      " #   Column                       Non-Null Count  Dtype  \n",
      "---  ------                       --------------  -----  \n",
      " 0   gender                       1000 non-null   int64  \n",
      " 1   race                         1000 non-null   int64  \n",
      " 2   parental level of education  1000 non-null   int64  \n",
      " 3   lunch                        1000 non-null   int64  \n",
      " 4   test preparation course      1000 non-null   int64  \n",
      " 5   math score                   1000 non-null   int64  \n",
      " 6   reading score                1000 non-null   int64  \n",
      " 7   writing score                1000 non-null   int64  \n",
      " 8   total_score                  1000 non-null   float64\n",
      " 9   result                       1000 non-null   int64  \n",
      "dtypes: float64(1), int64(9)\n",
      "memory usage: 78.2 KB\n"
     ]
    }
   ],
   "source": [
    "#checking the data again is it already encoded or not?\n",
    "samedata.info()"
   ]
  },
  {
   "cell_type": "code",
   "execution_count": 159,
   "id": "5bc13443",
   "metadata": {},
   "outputs": [],
   "source": [
    "#import more libraries\n",
    "import matplotlib.pyplot as plt\n",
    "import seaborn as sns\n",
    "from sklearn.linear_model import LogisticRegression\n",
    "from sklearn.model_selection import train_test_split"
   ]
  },
  {
   "cell_type": "markdown",
   "id": "9d038966",
   "metadata": {},
   "source": [
    "#### visualisasi biar keren"
   ]
  },
  {
   "cell_type": "code",
   "execution_count": 160,
   "id": "157cb568",
   "metadata": {},
   "outputs": [
    {
     "data": {
      "text/plain": [
       "<AxesSubplot:>"
      ]
     },
     "execution_count": 160,
     "metadata": {},
     "output_type": "execute_result"
    },
    {
     "data": {
      "image/png": "[encoded data removed]",
      "text/plain": [
       "<Figure size 720x720 with 2 Axes>"
      ]
     },
     "metadata": {
      "needs_background": "light"
     },
     "output_type": "display_data"
    }
   ],
   "source": [
    "plt.figure(figsize=(10,10))\n",
    "sns.heatmap(samedata.corr(), linewidth=0.5, annot=False, fmt=\".2f\", cmap = 'winter')"
   ]
  },
  {
   "cell_type": "markdown",
   "id": "5fa2b582",
   "metadata": {},
   "source": [
    "####  b.divide training and test data 80:20"
   ]
  },
  {
   "cell_type": "code",
   "execution_count": 161,
   "id": "56b45857",
   "metadata": {},
   "outputs": [
    {
     "name": "stdout",
     "output_type": "stream",
     "text": [
      "Panjang dari Training Data: 800\n",
      "Panjang dari Testing Data: 200\n"
     ]
    }
   ],
   "source": [
    "#menentukan nilai x dan y untuk prediksi apakah lulus(PASS) atau tidak(FAIL)\n",
    "\n",
    "X = samedata.drop(['result'], axis= 1)\n",
    "y = samedata['result']\n",
    "\n",
    "X_train, X_test, y_train, y_test = train_test_split(X,y, test_size = 0.2)\n",
    "\n",
    "print(\"Panjang dari Training Data: {}\".format(len(X_train)))\n",
    "print(\"Panjang dari Testing Data: {}\".format(len(X_test)))"
   ]
  },
  {
   "cell_type": "markdown",
   "id": "a0f1c3f5",
   "metadata": {},
   "source": [
    "#### c.use classification algorithm"
   ]
  },
  {
   "cell_type": "code",
   "execution_count": 162,
   "id": "ccd0ee97",
   "metadata": {},
   "outputs": [
    {
     "data": {
      "text/plain": [
       "LogisticRegression(solver='liblinear')"
      ]
     },
     "execution_count": 162,
     "metadata": {},
     "output_type": "execute_result"
    }
   ],
   "source": [
    "#memasukkan data ke dalam model Logistic Regression\n",
    "logregression = LogisticRegression(solver='liblinear')\n",
    "logregression.fit(X_train, y_train)"
   ]
  },
  {
   "cell_type": "markdown",
   "id": "bd44cf9e",
   "metadata": {},
   "source": [
    "#### d. model evalution on logistic regression"
   ]
  },
  {
   "cell_type": "code",
   "execution_count": 163,
   "id": "8a4dc6e1",
   "metadata": {},
   "outputs": [
    {
     "name": "stdout",
     "output_type": "stream",
     "text": [
      "Accuracy :  0.92\n"
     ]
    },
    {
     "data": {
      "image/png": "[encoded data removed]",
      "text/plain": [
       "<Figure size 576x432 with 1 Axes>"
      ]
     },
     "metadata": {
      "needs_background": "light"
     },
     "output_type": "display_data"
    }
   ],
   "source": [
    "#evaluating data using ROC Curve\n",
    "#hasil yang kemungkinan terjadi pada model evaluation ini adalah\n",
    "\n",
    "#True Positive: prediksi lulus, dan beneran PASS\n",
    "#True Negative: prediksi tidak lulus, dan beneran FAIL\n",
    "\n",
    "print(\"Accuracy : \", logregression.score(X_test, y_test))\n",
    "\n",
    "from sklearn. metrics import roc_curve\n",
    "\n",
    "y_pred_logreg_proba = logregression.predict_proba(X_test)[:,1]\n",
    "fpr, tpr, thresholds = roc_curve(y_test, y_pred_logreg_proba)\n",
    "plt.figure(figsize=(8, 6))\n",
    "plt.plot(fpr, tpr, '-g', linewidth=1)\n",
    "plt.plot([0,1],[0,1], 'k--')\n",
    "plt.title('ROC curve for Logistic Regression Model')\n",
    "plt.xlabel(\"False Positive Rate\")\n",
    "plt.ylabel('True Positive Rate')\n",
    "plt.show()"
   ]
  },
  {
   "cell_type": "code",
   "execution_count": 164,
   "id": "f19e50ad",
   "metadata": {},
   "outputs": [
    {
     "name": "stderr",
     "output_type": "stream",
     "text": [
      "[NbConvertApp] Converting notebook ./Christopher Darren_00000054804_IS411_CLHY_UTS.ipynb to html\n",
      "[NbConvertApp] Writing 689235 bytes to Christopher Darren_00000054804_IS411_CLHY_UTS.html\n"
     ]
    }
   ],
   "source": [
    "!jupyter nbconvert --to html \"./Christopher Darren_00000054804_IS411_CLHY_UTS\" --output-dir=\"./\""
   ]
  },
  {
   "cell_type": "code",
   "execution_count": null,
   "id": "51f4ee00",
   "metadata": {},
   "outputs": [],
   "source": []
  }
 ],
 "metadata": {
  "kernelspec": {
   "display_name": "Python 3 (ipykernel)",
   "language": "python",
   "name": "python3"
  },
  "language_info": {
   "codemirror_mode": {
    "name": "ipython",
    "version": 3
   },
   "file_extension": ".py",
   "mimetype": "text/x-python",
   "name": "python",
   "nbconvert_exporter": "python",
   "pygments_lexer": "ipython3",
   "version": "3.9.12"
  }
 },
 "nbformat": 4,
 "nbformat_minor": 5
}
